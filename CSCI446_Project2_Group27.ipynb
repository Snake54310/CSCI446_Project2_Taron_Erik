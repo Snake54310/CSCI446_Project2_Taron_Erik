{
 "cells": [
  {
   "cell_type": "code",
   "execution_count": 1,
   "id": "e0f0993b",
   "metadata": {},
   "outputs": [],
   "source": [
    "# Parameters\n",
    "GROUP_ID = 'Group27'\n",
    "PUZZLE_PATH = '_wumpus_paths_/hard/path_h2.txt'"
   ]
  },
  {
   "cell_type": "code",
   "execution_count": 2,
   "id": "35b4947b",
   "metadata": {},
   "outputs": [
    {
     "name": "stdout",
     "output_type": "stream",
     "text": [
      "SAFE\n",
      "OPERATIONS NEEDED = 118808\n"
     ]
    }
   ],
   "source": [
    "from CSCI446_Project2_main_Group27 import main\n",
    "\n",
    "main(GROUP_ID, PUZZLE_PATH)"
   ]
  }
 ],
 "metadata": {
  "kernelspec": {
   "display_name": "Python 3 (ipykernel)",
   "language": "python",
   "name": "python3"
  },
  "language_info": {
   "codemirror_mode": {
    "name": "ipython",
    "version": 3
   },
   "file_extension": ".py",
   "mimetype": "text/x-python",
   "name": "python",
   "nbconvert_exporter": "python",
   "pygments_lexer": "ipython3",
   "version": "3.9.12"
  }
 },
 "nbformat": 4,
 "nbformat_minor": 5
}
