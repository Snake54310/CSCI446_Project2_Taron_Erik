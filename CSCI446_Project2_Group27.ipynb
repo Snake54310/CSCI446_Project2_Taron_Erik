{
 "cells": [
  {
   "cell_type": "code",
   "execution_count": 1,
   "id": "e0f0993b",
   "metadata": {},
   "outputs": [],
   "source": [
    "# Parameters\n",
    "GROUP_ID = 'Group27'\n",
    "PUZZLE_PATH = '_wumpus_paths_/hard/path_h.txt'"
   ]
  },
  {
   "cell_type": "code",
   "execution_count": 2,
   "id": "35b4947b",
   "metadata": {
    "scrolled": true
   },
   "outputs": [
    {
     "name": "stdout",
     "output_type": "stream",
     "text": [
      "SAFE\n",
      "OPERATIONS NEEDED = 118808\n"
     ]
    },
    {
     "ename": "FileNotFoundError",
     "evalue": "[Errno 2] No such file or directory: 'Group27_/path_h.txt'",
     "output_type": "error",
     "traceback": [
      "\u001b[1;31m---------------------------------------------------------------------------\u001b[0m",
      "\u001b[1;31mFileNotFoundError\u001b[0m                         Traceback (most recent call last)",
      "Input \u001b[1;32mIn [2]\u001b[0m, in \u001b[0;36m<cell line: 3>\u001b[1;34m()\u001b[0m\n\u001b[0;32m      1\u001b[0m \u001b[38;5;28;01mfrom\u001b[39;00m \u001b[38;5;21;01mCSCI446_Project2_main_Group27\u001b[39;00m \u001b[38;5;28;01mimport\u001b[39;00m main\n\u001b[1;32m----> 3\u001b[0m \u001b[43mmain\u001b[49m\u001b[43m(\u001b[49m\u001b[43mGROUP_ID\u001b[49m\u001b[43m,\u001b[49m\u001b[43m \u001b[49m\u001b[43mPUZZLE_PATH\u001b[49m\u001b[43m)\u001b[49m\n",
      "File \u001b[1;32m~\\CSCI446_Project2\\CSCI446_Project2_Taron_Erik\\CSCI446_Project2_main_Group27.py:165\u001b[0m, in \u001b[0;36mmain\u001b[1;34m(GROUP_ID, PUZZLE_PATH)\u001b[0m\n\u001b[0;32m    161\u001b[0m deduction \u001b[38;5;241m=\u001b[39m resultings[\u001b[38;5;241m0\u001b[39m]\n\u001b[0;32m    162\u001b[0m clausesArray \u001b[38;5;241m=\u001b[39m resultings[\u001b[38;5;241m1\u001b[39m]\n\u001b[1;32m--> 165\u001b[0m \u001b[43msaveOutput\u001b[49m\u001b[43m(\u001b[49m\u001b[43mdeduction\u001b[49m\u001b[43m,\u001b[49m\u001b[43m \u001b[49m\u001b[43mclausesArray\u001b[49m\u001b[43m,\u001b[49m\u001b[43m \u001b[49m\u001b[43mGROUP_ID\u001b[49m\u001b[43m,\u001b[49m\u001b[43m \u001b[49m\u001b[43mPUZZLE_PATH\u001b[49m\u001b[43m)\u001b[49m\n",
      "File \u001b[1;32m~\\CSCI446_Project2\\CSCI446_Project2_Taron_Erik\\CSCI446_Project2_main_Group27.py:95\u001b[0m, in \u001b[0;36msaveOutput\u001b[1;34m(deduction, clausesArray, GROUP_ID, PUZZLE_PATH)\u001b[0m\n\u001b[0;32m     93\u001b[0m writeString \u001b[38;5;241m+\u001b[39m\u001b[38;5;241m=\u001b[39m \u001b[38;5;124m\"\u001b[39m\u001b[38;5;130;01m\\n\u001b[39;00m\u001b[38;5;124m\"\u001b[39m\n\u001b[0;32m     94\u001b[0m writeString \u001b[38;5;241m+\u001b[39m\u001b[38;5;241m=\u001b[39m \u001b[38;5;124m\"\u001b[39m\u001b[38;5;124mQUERY: \u001b[39m\u001b[38;5;124m\"\u001b[39m \u001b[38;5;241m+\u001b[39m deduction\n\u001b[1;32m---> 95\u001b[0m \u001b[38;5;28;01mwith\u001b[39;00m \u001b[38;5;28;43mopen\u001b[39;49m\u001b[43m(\u001b[49m\u001b[43mfileName\u001b[49m\u001b[43m,\u001b[49m\u001b[43m \u001b[49m\u001b[38;5;124;43m\"\u001b[39;49m\u001b[38;5;124;43mw\u001b[39;49m\u001b[38;5;124;43m\"\u001b[39;49m\u001b[43m)\u001b[49m \u001b[38;5;28;01mas\u001b[39;00m f:\n\u001b[0;32m     96\u001b[0m     f\u001b[38;5;241m.\u001b[39mwrite(writeString)\n\u001b[0;32m     98\u001b[0m \u001b[38;5;28;01mreturn\u001b[39;00m\n",
      "\u001b[1;31mFileNotFoundError\u001b[0m: [Errno 2] No such file or directory: 'Group27_/path_h.txt'"
     ]
    }
   ],
   "source": [
    "from CSCI446_Project2_main_Group27 import main\n",
    "\n",
    "main(GROUP_ID, PUZZLE_PATH)"
   ]
  },
  {
   "cell_type": "code",
   "execution_count": null,
   "id": "588ea0c8",
   "metadata": {},
   "outputs": [],
   "source": []
  }
 ],
 "metadata": {
  "kernelspec": {
   "display_name": "Python 3 (ipykernel)",
   "language": "python",
   "name": "python3"
  },
  "language_info": {
   "codemirror_mode": {
    "name": "ipython",
    "version": 3
   },
   "file_extension": ".py",
   "mimetype": "text/x-python",
   "name": "python",
   "nbconvert_exporter": "python",
   "pygments_lexer": "ipython3",
   "version": "3.9.12"
  }
 },
 "nbformat": 4,
 "nbformat_minor": 5
}
